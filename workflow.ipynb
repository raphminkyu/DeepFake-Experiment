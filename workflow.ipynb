{
  "nbformat": 4,
  "nbformat_minor": 0,
  "metadata": {
    "colab": {
      "name": "workflow.ipynb",
      "private_outputs": true,
      "provenance": [],
      "collapsed_sections": [],
      "toc_visible": true,
      "include_colab_link": true
    },
    "kernelspec": {
      "name": "python3",
      "display_name": "Python 3"
    },
    "accelerator": "GPU"
  },
  "cells": [
    {
      "cell_type": "markdown",
      "metadata": {
        "id": "view-in-github",
        "colab_type": "text"
      },
      "source": [
        "<a href=\"https://colab.research.google.com/github/raphminkyu/DeepFake-Experiment/blob/main/workflow.ipynb\" target=\"_parent\"><img src=\"https://colab.research.google.com/assets/colab-badge.svg\" alt=\"Open In Colab\"/></a>"
      ]
    },
    {
      "cell_type": "markdown",
      "metadata": {
        "id": "FihV6led3S0g"
      },
      "source": [
        "Credits # Source"
      ]
    },
    {
      "cell_type": "markdown",
      "metadata": {
        "id": "iLDlBRZ83YBn"
      },
      "source": [
        "Thank you https://github.com/RakaMaru/Faceswap_Google_Colab_Master/blob/master/Faceswap_Google_Colab_Master.ipynb for modified notebook and\n",
        "https://github.com/deepfakes/faceswap for source code"
      ]
    },
    {
      "cell_type": "markdown",
      "metadata": {
        "id": "9Zmp-8hrzRoG"
      },
      "source": [
        "# More Credits"
      ]
    },
    {
      "cell_type": "markdown",
      "metadata": {
        "id": "AREFpzzGzV9-"
      },
      "source": [
        "Thank you Faceswap Community\n",
        "\n",
        "*   https://faceswap.dev/\n",
        "*   https://forum.faceswap.dev/\n",
        "*   The other Github Google Colab notebooks which inspired this one\n",
        "\n"
      ]
    },
    {
      "cell_type": "markdown",
      "metadata": {
        "id": "6Cf-0G6-fYUg"
      },
      "source": [
        "# Check Your System"
      ]
    },
    {
      "cell_type": "code",
      "metadata": {
        "id": "SbYsk5P-PuqH"
      },
      "source": [
        "#@title Use this to check the assigned GPU\n",
        "\n",
        "!cat /etc/os-release\n",
        "\n",
        "def install_dependencies():\n",
        "  !ln -sf /opt/bin/nvidia-smi /usr/bin/nvidia-smi;\n",
        "  !pip install gputil;\n",
        "  !pip install psutil;\n",
        "  !pip install humanize;%%capture\n",
        "\n",
        "\n",
        "def printm():\n",
        " GPUs = GPU.getGPUs()\n",
        "\n",
        " if len(GPUs) == 0:\n",
        "  print(\"No GPU available.\")\n",
        "  return\n",
        "\n",
        " gpu = GPUs[0]\n",
        " process = psutil.Process(os.getpid())\n",
        " print(\"Gen RAM Free: \" + humanize.naturalsize( psutil.virtual_memory().available ), \" | Proc size: \" + humanize.naturalsize( process.memory_info().rss))\n",
        " print(\"GPU RAM Free: {0:.0f}MB | Used: {1:.0f}MB | Util {2:3.0f}% | Total {3:.0f}MB\".format(gpu.memoryFree, gpu.memoryUsed, gpu.memoryUtil*100, gpu.memoryTotal))\n",
        "\n",
        "from IPython.utils import io\n",
        "from google.colab import drive\n",
        "import psutil\n",
        "import humanize\n",
        "import os\n",
        " \n",
        "with io.capture_output() as captured:\n",
        "  install_dependencies()\n",
        "print(\"Dependencies installed.\")\n",
        "\n",
        "\n",
        "import GPUtil as GPU\n",
        "\n",
        "printm()"
      ],
      "execution_count": null,
      "outputs": []
    },
    {
      "cell_type": "markdown",
      "metadata": {
        "id": "e1yNPAbSSKdK"
      },
      "source": [
        "# Setup Faceswap"
      ]
    },
    {
      "cell_type": "code",
      "metadata": {
        "id": "BuNRgHGRSP59"
      },
      "source": [
        "#@title Mount Google Drive\n",
        "\n",
        "from google.colab import drive\n",
        "drive.mount('/content/drive', force_remount=True)"
      ],
      "execution_count": null,
      "outputs": []
    },
    {
      "cell_type": "code",
      "metadata": {
        "id": "NUHDDCPCcDKW"
      },
      "source": [
        "#@title Grab the latest Faceswap\n",
        "!rm -rf faceswap\n",
        "!git clone --single-branch --branch r1.0 https://github.com/deepfakes/faceswap.git"
      ],
      "execution_count": null,
      "outputs": []
    },
    {
      "cell_type": "code",
      "metadata": {
        "id": "VDzky8jnfDzE"
      },
      "source": [
        "#@title Install Tensorflow\n",
        "\n",
        "!pip install -r faceswap/requirements_nvidia.txt\n"
      ],
      "execution_count": null,
      "outputs": []
    },
    {
      "cell_type": "markdown",
      "metadata": {
        "id": "t68sAaLFrspt"
      },
      "source": [
        "# Extract Faces"
      ]
    },
    {
      "cell_type": "code",
      "metadata": {
        "id": "xLnSRC4ar1VF"
      },
      "source": [
        "#COMP365\n",
        "# Extracting input video's face\n",
        "!python3 faceswap/faceswap.py extract -i \"/content/drive/My Drive/AI/cashme.mp4\" -o \"/content/drive/My Drive/AI/cashme\" -D s3fd -A fan -nm none -min 0 -l 0.4 -een 1 -sz 256 -si 0 -L INFO"
      ],
      "execution_count": null,
      "outputs": []
    },
    {
      "cell_type": "code",
      "metadata": {
        "id": "fKHovlt4sjz-"
      },
      "source": [
        "#COMP365\n",
        "# Extracting Prof Skalak's face\n",
        "!python3 faceswap/faceswap.py extract -i \"/content/drive/My Drive/AI/skalak2.mp4\" -o \"/content/drive/My Drive/AI/skalak2\" -D s3fd -A fan -nm none -min 0 -l 0.4 -een 1 -sz 256 -si 0 -L INFO"
      ],
      "execution_count": null,
      "outputs": []
    },
    {
      "cell_type": "markdown",
      "metadata": {
        "id": "9IvtNv6w3KGX"
      },
      "source": [
        "# Run Training"
      ]
    },
    {
      "cell_type": "markdown",
      "metadata": {
        "id": "UhcVgWHctlFe"
      },
      "source": [
        "Training code from https://colab.research.google.com/github/seranus/faceswap-notebooks/blob/master/faceswap_trainer.ipynb#scrollTo=_UFW54uqbtgv"
      ]
    },
    {
      "cell_type": "code",
      "metadata": {
        "id": "UA4bhMex2WF3"
      },
      "source": [
        "#Threading stuff stolen from: \n",
        "# https://stackoverflow.com/questions/32081926/a-new-thread-for-running-a-cell-in-ipython-jupyter-notebook\n",
        "\n",
        "from time import sleep,time\n",
        "from IPython.display import display,HTML\n",
        "import base64\n",
        "from threading import Thread\n",
        "\n",
        "# new faceswap version\n",
        "image_path = \"faceswap/training_preview.jpg\"\n",
        "\n",
        "# old faceswap\n",
        "#image_path = \"faceswap/_sample_training.jpg\"\n",
        "#image_path = \"faceswap/_sample_training using <OriginalHighRes: v=2.7, enc=ORIGINAL, encoder_dim=1024, img_shape=128x128>, bs=16.jpg\"\n",
        "!touch '{image_path}'\n",
        "\n",
        "class PreviewImg:\n",
        "  def __init__(self):\n",
        "    self.cancel = False\n",
        "    self.fig = display(HTML('<img src=\"https://dummyimage.com/1024x618/000/ffffff&text=Preview+Loading...\" />'), display_id=True)\n",
        "    print(\"Created display.\")\n",
        "  \n",
        "  def update(self):\n",
        "    print(\"Updating display.\")\n",
        "    with open(image_path, 'rb') as image:\n",
        "      encoded = str(base64.b64encode(image.read()))[2:-1]\n",
        "      self.fig.update(HTML('<img src=\"data:image/jpg;base64,' + encoded + '\" width=\"1024\" height=\"618\" />'))\n",
        "      # print(\"Updated display.\")\n",
        "    \n",
        "  def task(self):\n",
        "    while not self.cancel:\n",
        "      sleep(5 * 60) #Every 5 minutes.\n",
        "      if not self.fig:\n",
        "        print(\"Figure doesn't exist.\")\n",
        "        break\n",
        "      self.update()"
      ],
      "execution_count": null,
      "outputs": []
    },
    {
      "cell_type": "code",
      "metadata": {
        "id": "VF4h7Og02W_s"
      },
      "source": [
        "!echo \"Preview image size is reduced 3 times right click and save the image to view it in full size\"\n",
        "\n",
        "prev_img = PreviewImg()\n",
        "thread = Thread(target=prev_img.task)\n",
        "thread.start()\n",
        "\n",
        "!python3 faceswap/faceswap.py train -A '/content/drive/My Drive/AI/cashme' -ala '/content/drive/My Drive/AI/cashme.fsa' -B '/content/drive/My Drive/AI/skalak2' -alb '/content/drive/My Drive/AI/skalak2.fsa' -m '/content/drive/My Drive/AI/model10000' -t 'villain' -bs 16 -s 330 -w -nl -it 10000"
      ],
      "execution_count": null,
      "outputs": []
    },
    {
      "cell_type": "markdown",
      "metadata": {
        "id": "ziJulCuhtwqO"
      },
      "source": [
        "# Convert"
      ]
    },
    {
      "cell_type": "code",
      "metadata": {
        "id": "6_2JM9LXR-Io"
      },
      "source": [
        "#COMP365\n",
        "!python3 faceswap/faceswap.py convert -i '/content/drive/MyDrive/AI/video-1606520221.mp4' -o '/content/drive/My Drive/AI/output10000.mp4' -al '/content/drive/MyDrive/AI/cashme.fsa' -m '/content/drive/MyDrive/AI/model10000' -c \"avg-color\" -M \"none\" -w \"ffmpeg\" -osc \"100\" -l \"0.4\" -j \"0\" -L \"INFO\""
      ],
      "execution_count": null,
      "outputs": []
    },
    {
      "cell_type": "markdown",
      "metadata": {
        "id": "NlIGj9YWvJea"
      },
      "source": [
        "# Analysis \n",
        "\n"
      ]
    },
    {
      "cell_type": "code",
      "metadata": {
        "id": "7J2F7Mn5xvtc"
      },
      "source": [
        "#@title Grab the latest Faceswap\n",
        "!rm -rf DeepFake-Experiment\n",
        "\n",
        "!git clone https://github.com/raphminkyu/DeepFake-Experiment.git"
      ],
      "execution_count": null,
      "outputs": []
    },
    {
      "cell_type": "code",
      "metadata": {
        "id": "pvWW6BU7x12Y"
      },
      "source": [
        "!pip install -r DeepFake-Experiment/requirements.txt"
      ],
      "execution_count": null,
      "outputs": []
    },
    {
      "cell_type": "code",
      "metadata": {
        "id": "HKt21zsEySbk"
      },
      "source": [
        "python3 DeepFake-Experiment/main.py"
      ],
      "execution_count": null,
      "outputs": []
    }
  ]
}